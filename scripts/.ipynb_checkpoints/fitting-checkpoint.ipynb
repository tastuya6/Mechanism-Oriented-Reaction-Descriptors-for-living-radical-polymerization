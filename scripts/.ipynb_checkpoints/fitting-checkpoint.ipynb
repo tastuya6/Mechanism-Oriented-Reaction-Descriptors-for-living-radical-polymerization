{
 "cells": [
  {
   "cell_type": "markdown",
   "id": "125ffae4",
   "metadata": {},
   "source": [
    "1. Import Libraries"
   ]
  },
  {
   "cell_type": "code",
   "execution_count": null,
   "id": "070acca2",
   "metadata": {
    "lines_to_next_cell": 2
   },
   "outputs": [],
   "source": [
    "#path\n",
    "import sys\n",
    "import os\n",
    "sys.path.append(os.path.dirname(os.path.abspath(__file__)))"
   ]
  },
  {
   "cell_type": "code",
   "execution_count": null,
   "id": "b6b84458",
   "metadata": {},
   "outputs": [],
   "source": [
    "#import \n",
    "from function import yyplot_k, boruta, search_highly_correlated_variables\n",
    "\n",
    "import pandas as pd\n",
    "import numpy as np\n",
    "import matplotlib.pyplot as plt\n",
    "from sklearn.linear_model import ARDRegression\n",
    "from sklearn.model_selection import cross_val_predict, GridSearchCV, KFold\n",
    "from sklearn.metrics import pairwise_distances, r2_score, mean_squared_error, mean_absolute_error\n",
    "from sklearn import preprocessing\n",
    "from sklearn.preprocessing import StandardScaler\n",
    "import itertools"
   ]
  },
  {
   "cell_type": "code",
   "execution_count": null,
   "id": "e811024e",
   "metadata": {},
   "outputs": [],
   "source": [
    "#random seed\n",
    "rseed_boruta = 1"
   ]
  },
  {
   "cell_type": "code",
   "execution_count": null,
   "id": "f57e4558",
   "metadata": {},
   "outputs": [],
   "source": [
    "if __name__ == \"__main__\":\n",
    "    # file & preprocessing\n",
    "    df = pd.read_excel(\"./0_doctor_reserch/1_nitroxide/paper/sentence/論文用_github/data/XY/JACS/1999_JACS_St_mechanism_oriented_descriptors.xlsx\", index_col = 0)\n",
    "    \n",
    "    df.index = df.index.astype(\"str\")\n",
    "    df.drop([\"41\"], axis=0, inplace=True) #Select the sample you want to use\n",
    "    X = df.loc[:, :\"ΔH\"]\n",
    "    y = np.log(df[\"PDI\"]-1)\n",
    "    \n",
    "    model = ARDRegression(n_iter=1000)\n",
    "    \n",
    "    fitting_results = pd.DataFrame(index = X.index, columns = ['pred_y', 'observed_y'])\n",
    "    \n",
    "    \n",
    "    X = search_highly_correlated_variables(X, 0.8)\n",
    "    X = boruta(X, y, perc = 90, rseed_boruta = rseed_boruta)\n",
    "    \n",
    "    scaler_X = StandardScaler()\n",
    "    scaler_X.fit(X)\n",
    "    X_sc = pd.DataFrame(scaler_X.transform(X), index = X.index, columns = X.columns)\n",
    "    \n",
    "    model.fit(X_sc, y)\n",
    "    y_pred = model.predict(X_sc)\n",
    "    \n",
    "    coefficients = model.coef_\n",
    "    \n",
    "    fitting_results.loc[X.index, 'pred_y'] = np.exp(y_pred) + 1\n",
    "    fitting_results.loc[X.index, 'observed_y'] = np.exp(y) + 1\n",
    "\n",
    "    \n",
    "    \n",
    "    dirname = \"./0_doctor_reserch/1_nitroxide/paper/sentence/論文用_github/result\"\n",
    "    os.makedirs(dirname, exist_ok = True)\n",
    "    \n",
    "    fitting_results.to_excel(dirname + \"/ARD_fitting.xlsx\")\n",
    "    \n",
    "\n",
    "    #valuation index\n",
    "    r2 = r2_score(fitting_results['observed_y'], fitting_results['pred_y'])\n",
    "    MAE = mean_absolute_error(fitting_results['observed_y'], fitting_results['pred_y'])\n",
    "    \n",
    "    #yy-plot\n",
    "    yyplot_k(fitting_results['observed_y'], fitting_results['pred_y'])\n",
    "    \n",
    "    for i, label in enumerate (fitting_results.index):\n",
    "        plt.annotate(label, xy = (fitting_results['observed_y'][label], fitting_results['pred_y'][label]), xytext=(0, 5),  # Adjust these values as needed\n",
    "            textcoords='offset points',size =8, color = \"steelblue\")\n",
    "        \n",
    "    plt.text(0.05, 0.95, r\"$R^2$={}, MAE={}\".format(round(r2, 2), round(MAE, 2)), transform=plt.gca().transAxes,\n",
    "             verticalalignment='top', horizontalalignment='left',\n",
    "             bbox=dict(facecolor='white', edgecolor='none', alpha=0.5))\n",
    "    \n",
    "    plt.savefig(dirname + \"/ARD_fitiing.jpg\")\n",
    "    \n",
    "    #feature importance\n",
    "    plt.figure(figsize = [15, 8])\n",
    "    plt.rcParams[\"font.size\"] =30\n",
    "    nonzero_coefficients = [i for i, coef in enumerate(model.coef_) if abs(coef) >  0.002]\n",
    "    # 係数が0でない特徴量だけを残す\n",
    "    X_selected = X.iloc[:, nonzero_coefficients]\n",
    "    plt.barh(X_selected.columns.ravel(), model.coef_[nonzero_coefficients].ravel())\n",
    "    plt.grid()\n",
    "    plt.title(\"feature importance\")\n",
    "    plt.tight_layout()\n",
    "    \n",
    "    plt.savefig(dirname + \"/ARD_fitiing_feature_importance.jpg\")"
   ]
  }
 ],
 "metadata": {
  "jupytext": {
   "cell_metadata_filter": "-all",
   "encoding": "# -*- coding: utf-8 -*-",
   "main_language": "python",
   "notebook_metadata_filter": "-all"
  },
  "kernelspec": {
   "display_name": "Python 3 (ipykernel)",
   "language": "python",
   "name": "python3"
  },
  "language_info": {
   "codemirror_mode": {
    "name": "ipython",
    "version": 3
   },
   "file_extension": ".py",
   "mimetype": "text/x-python",
   "name": "python",
   "nbconvert_exporter": "python",
   "pygments_lexer": "ipython3",
   "version": "3.7.16"
  }
 },
 "nbformat": 4,
 "nbformat_minor": 5
}
